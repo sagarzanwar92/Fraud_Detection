{
 "cells": [
  {
   "cell_type": "code",
   "execution_count": 1,
   "id": "ae320597",
   "metadata": {},
   "outputs": [
    {
     "name": "stdout",
     "output_type": "stream",
     "text": [
      "assume this is a ML model\n"
     ]
    }
   ],
   "source": [
    "print('assume this is a ML model')"
   ]
  },
  {
   "cell_type": "code",
   "execution_count": 2,
   "id": "cf0a6f15",
   "metadata": {},
   "outputs": [],
   "source": [
    "def model1():\n",
    "    print('adding ML model1')\n",
    "\n",
    "def model2():\n",
    "    print('adding ML model2')\n",
    "    \n",
    "def model3():\n",
    "    print('adding ML model3')"
   ]
  },
  {
   "cell_type": "code",
   "execution_count": 3,
   "id": "96366380",
   "metadata": {},
   "outputs": [
    {
     "name": "stdout",
     "output_type": "stream",
     "text": [
      "model2 performs the best\n"
     ]
    }
   ],
   "source": [
    "print('model2 performs the best')"
   ]
  },
  {
   "cell_type": "code",
   "execution_count": null,
   "id": "bccf243d",
   "metadata": {},
   "outputs": [],
   "source": []
  }
 ],
 "metadata": {
  "kernelspec": {
   "display_name": "Python 3 (ipykernel)",
   "language": "python",
   "name": "python3"
  },
  "language_info": {
   "codemirror_mode": {
    "name": "ipython",
    "version": 3
   },
   "file_extension": ".py",
   "mimetype": "text/x-python",
   "name": "python",
   "nbconvert_exporter": "python",
   "pygments_lexer": "ipython3",
   "version": "3.9.7"
  }
 },
 "nbformat": 4,
 "nbformat_minor": 5
}
